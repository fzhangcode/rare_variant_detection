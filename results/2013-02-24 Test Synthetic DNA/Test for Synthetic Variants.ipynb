{
 "metadata": {
  "name": "Test for Synthetic Variants"
 },
 "nbformat": 3,
 "nbformat_minor": 0,
 "worksheets": [
  {
   "cells": [
    {
     "cell_type": "code",
     "collapsed": false,
     "input": [
      "import sys\n",
      "import os\n",
      "import numpy as np\n",
      "import scipy as sp\n",
      "import matplotlib as plt\n",
      "import pandas as pd"
     ],
     "language": "python",
     "metadata": {},
     "outputs": [],
     "prompt_number": 9
    },
    {
     "cell_type": "code",
     "collapsed": false,
     "input": [
      "# Insert the src/python/rvd26 directory at front of the path\n",
      "rvddir = os.path.join('../../src/python/rvd26')\n",
      "sys.path.insert(0, rvddir)\n",
      "import rvd26"
     ],
     "language": "python",
     "metadata": {},
     "outputs": [],
     "prompt_number": 10
    },
    {
     "cell_type": "code",
     "collapsed": false,
     "input": [
      "def load_depth(filename):\n",
      "    acgt = {'A':0, 'C':1, 'G':2, 'T':3}\n",
      "    \n",
      "    dcFile = open(filename, 'r')\n",
      "    header = dcFile.readline().strip()\n",
      "    dc = dcFile.readlines()\n",
      "    dc = [x.strip().split(\"\\t\") for x in dc]\n",
      "    \n",
      "    loc = map(int, [x[2] for x in dc])\n",
      "    refb = [x[4] for x in dc]\n",
      "    c = [map(int, x[5:9]) for x in dc]\n",
      "    c = np.array(c)\n",
      "    \n",
      "    (J, K) = np.shape(c)\n",
      "    n = np.sum(c, 1)\n",
      "    r = np.zeros(J)\n",
      "    for j in xrange(0, J):\n",
      "        r[j] = n[j] - c[j, acgt[refb[j]]]\n",
      "    return (r, n)"
     ],
     "language": "python",
     "metadata": {},
     "outputs": [],
     "prompt_number": 11
    },
    {
     "cell_type": "code",
     "collapsed": false,
     "input": [
      "def process_toc(tocfilename, dilution):\n",
      "    toc = pd.read_table(tocfilename, nrows=12)\n",
      "    \n",
      "    dcFileList = toc.Filename[toc.Dilution==dilution]\n",
      "    \n",
      "    r=[]; n=[]\n",
      "    for dcFile in dcFileList:\n",
      "        dcFile = \"../../data/synthetic_dcs/%s\" % dcFile\n",
      "\n",
      "        (r1, n1) = load_depth(dcFile)\n",
      "        r.append(r1)\n",
      "        n.append(n1)\n",
      "    r = np.array(r)\n",
      "    n = np.array(n)\n",
      "    return (r,n)"
     ],
     "language": "python",
     "metadata": {},
     "outputs": [],
     "prompt_number": 54
    },
    {
     "cell_type": "code",
     "collapsed": false,
     "input": [
      "filename = \"../../data/synthetic_toc.txt\"\n",
      "(r,n) = process_toc(filename, 0.0)"
     ],
     "language": "python",
     "metadata": {},
     "outputs": [
      {
       "output_type": "stream",
       "stream": "stdout",
       "text": [
        "['20100916_c1_p1.02_ACT.m0M2f0.AFR.txt', '20100916_c1_p1.04_ATT.m0M2f0.AFR.txt', '20100916_c1_p1.05_CAT.m0M2f0.AFR.txt', '20100916_c1_p2.02_ACT.m0M2f0.AFR.txt', '20100916_c1_p2.04_ATT.m0M2f0.AFR.txt', '20100916_c1_p2.05_CAT.m0M2f0.AFR.txt']\n"
       ]
      }
     ],
     "prompt_number": 55
    },
    {
     "cell_type": "code",
     "collapsed": false,
     "input": [
      "os.getcwd()"
     ],
     "language": "python",
     "metadata": {},
     "outputs": [
      {
       "output_type": "pyout",
       "prompt_number": 43,
       "text": [
        "'/Users/pjflaherty/Research/rvd2/results/2013-02-24 Test Synthetic DNA'"
       ]
      }
     ],
     "prompt_number": 43
    },
    {
     "cell_type": "code",
     "collapsed": false,
     "input": [
      "toc = pd.read_table('../../data/synthetic_toc.txt', nrows=12)\n",
      "print(toc)"
     ],
     "language": "python",
     "metadata": {},
     "outputs": [
      {
       "output_type": "stream",
       "stream": "stdout",
       "text": [
        "    Lane  Pair  Tag Index  Tag  Dilution isRef                              Filename\n",
        "0      1     1          2  ACT       0.0     Y  20100916_c1_p1.02_ACT.m0M2f0.AFR.txt\n",
        "1      1     1          4  ATT       0.0     Y  20100916_c1_p1.04_ATT.m0M2f0.AFR.txt\n",
        "2      1     1          5  CAT       0.0     Y  20100916_c1_p1.05_CAT.m0M2f0.AFR.txt\n",
        "3      1     1          7  CGT       0.1     N  20100916_c1_p1.07_CGT.m0M2f0.AFR.txt\n",
        "4      1     1         12  GTT       0.1     N  20100916_c1_p1.12_GTT.m0M2f0.AFR.txt\n",
        "5      1     1         14  TCT       0.1     N  20100916_c1_p1.14_TCT.m0M2f0.AFR.txt\n",
        "6      1     2          2  ACT       0.0     Y  20100916_c1_p2.02_ACT.m0M2f0.AFR.txt\n",
        "7      1     2          4  ATT       0.0     Y  20100916_c1_p2.04_ATT.m0M2f0.AFR.txt\n",
        "8      1     2          5  CAT       0.0     Y  20100916_c1_p2.05_CAT.m0M2f0.AFR.txt\n",
        "9      1     2          7  CGT       0.1     N  20100916_c1_p2.07_CGT.m0M2f0.AFR.txt\n",
        "10     1     2         12  GTT       0.1     N  20100916_c1_p2.12_GTT.m0M2f0.AFR.txt\n",
        "11     1     2         14  TCT       0.1     N  20100916_c1_p2.14_TCT.m0M2f0.AFR.txt\n"
       ]
      }
     ],
     "prompt_number": 21
    },
    {
     "cell_type": "code",
     "collapsed": false,
     "input": [
      "type(toc)"
     ],
     "language": "python",
     "metadata": {},
     "outputs": [
      {
       "output_type": "pyout",
       "prompt_number": 25,
       "text": [
        "pandas.core.frame.DataFrame"
       ]
      }
     ],
     "prompt_number": 25
    },
    {
     "cell_type": "code",
     "collapsed": false,
     "input": [
      "toc.Filename[toc.isRef=='Y']"
     ],
     "language": "python",
     "metadata": {},
     "outputs": [
      {
       "output_type": "pyout",
       "prompt_number": 34,
       "text": [
        "0    20100916_c1_p1.02_ACT.m0M2f0.AFR.txt\n",
        "1    20100916_c1_p1.04_ATT.m0M2f0.AFR.txt\n",
        "2    20100916_c1_p1.05_CAT.m0M2f0.AFR.txt\n",
        "6    20100916_c1_p2.02_ACT.m0M2f0.AFR.txt\n",
        "7    20100916_c1_p2.04_ATT.m0M2f0.AFR.txt\n",
        "8    20100916_c1_p2.05_CAT.m0M2f0.AFR.txt\n",
        "Name: Filename"
       ]
      }
     ],
     "prompt_number": 34
    },
    {
     "cell_type": "code",
     "collapsed": false,
     "input": [
      "dcFileList = list(toc.Filename[toc.isRef=='Y'])\n",
      "dcFileList"
     ],
     "language": "python",
     "metadata": {},
     "outputs": [
      {
       "output_type": "pyout",
       "prompt_number": 36,
       "text": [
        "['20100916_c1_p1.02_ACT.m0M2f0.AFR.txt',\n",
        " '20100916_c1_p1.04_ATT.m0M2f0.AFR.txt',\n",
        " '20100916_c1_p1.05_CAT.m0M2f0.AFR.txt',\n",
        " '20100916_c1_p2.02_ACT.m0M2f0.AFR.txt',\n",
        " '20100916_c1_p2.04_ATT.m0M2f0.AFR.txt',\n",
        " '20100916_c1_p2.05_CAT.m0M2f0.AFR.txt']"
       ]
      }
     ],
     "prompt_number": 36
    },
    {
     "cell_type": "code",
     "collapsed": false,
     "input": [],
     "language": "python",
     "metadata": {},
     "outputs": []
    }
   ],
   "metadata": {}
  }
 ]
}