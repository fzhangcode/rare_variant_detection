{
 "metadata": {
  "name": "Test Synthetic DNA Notebook"
 },
 "nbformat": 3,
 "nbformat_minor": 0,
 "worksheets": [
  {
   "cells": [
    {
     "cell_type": "code",
     "collapsed": true,
     "input": [
      "import sys\n",
      "import os\n",
      "import numpy as np\n",
      "import scipy as sp\n",
      "import matplotlib.pyplot as plt\n",
      "import matplotlib\n",
      "import pandas as pd\n",
      "import pickle\n",
      "import multiprocessing as mp"
     ],
     "language": "python",
     "metadata": {},
     "outputs": [],
     "prompt_number": 1
    },
    {
     "cell_type": "code",
     "collapsed": false,
     "input": [
      "# Insert the src/python/rvd26 directory at front of the path\n",
      "rvddir = os.path.join('../../src/python/rvd26')\n",
      "sys.path.insert(0, rvddir)\n",
      "import rvd26"
     ],
     "language": "python",
     "metadata": {},
     "outputs": [],
     "prompt_number": 2
    },
    {
     "cell_type": "code",
     "collapsed": true,
     "input": [
      "def load_depth(filename):\n",
      "    acgt = {'A':0, 'C':1, 'G':2, 'T':3}\n",
      "    \n",
      "    dcFile = open(filename, 'r')\n",
      "    header = dcFile.readline().strip()\n",
      "    dc = dcFile.readlines()\n",
      "    dc = [x.strip().split(\"\\t\") for x in dc]\n",
      "    \n",
      "    loc = map(int, [x[2] for x in dc])\n",
      "    refb = [x[4] for x in dc]\n",
      "    c = [map(int, x[5:9]) for x in dc]\n",
      "    c = np.array(c)\n",
      "    \n",
      "    (J, K) = np.shape(c)\n",
      "    n = np.sum(c, 1)\n",
      "    r = np.zeros(J)\n",
      "    for j in xrange(0, J):\n",
      "        r[j] = n[j] - c[j, acgt[refb[j]]]\n",
      "    return (r, n)"
     ],
     "language": "python",
     "metadata": {},
     "outputs": [],
     "prompt_number": 3
    },
    {
     "cell_type": "code",
     "collapsed": true,
     "input": [
      "def process_toc(dcFileList):\n",
      "    \n",
      "    r=[]; n=[]\n",
      "    for dcFile in dcFileList:\n",
      "        (r1, n1) = load_depth(dcFile)\n",
      "        r.append(r1)\n",
      "        n.append(n1)\n",
      "    r = np.array(r)\n",
      "    n = np.array(n)\n",
      "    return (r,n)"
     ],
     "language": "python",
     "metadata": {},
     "outputs": [],
     "prompt_number": 4
    },
    {
     "cell_type": "code",
     "collapsed": true,
     "input": [
      "tocfilename = \"../../data/synthetic_toc.txt\"\n",
      "toc = pd.read_table(tocfilename)\n",
      "print toc\n",
      "\n",
      "controlFileList = [\"../../data/synthetic_dcs/%s\" % filename for filename in toc.Filename[toc.isRef=='Y']]\n",
      "(rControl,nControl) = process_toc(controlFileList)\n",
      "\n",
      "caseFileList = [\"../../data/synthetic_dcs/%s\" % filename for filename in toc.Filename[toc.Dilution==10.0]]\n",
      "(r,n) = process_toc(caseFileList)"
     ],
     "language": "python",
     "metadata": {},
     "outputs": [
      {
       "output_type": "stream",
       "stream": "stdout",
       "text": [
        "    Lane  Pair  Tag Index  Tag  Dilution isRef                              Filename\n",
        "0      1     1          2  ACT       0.0     Y  20100916_c1_p1.02_ACT.m0M2f0.AFR.txt\n",
        "1      1     1          4  ATT       0.0     Y  20100916_c1_p1.04_ATT.m0M2f0.AFR.txt\n",
        "2      1     1          5  CAT       0.0     Y  20100916_c1_p1.05_CAT.m0M2f0.AFR.txt\n",
        "3      1     1          7  CGT       0.1     N  20100916_c1_p1.07_CGT.m0M2f0.AFR.txt\n",
        "4      1     1         12  GTT       0.1     N  20100916_c1_p1.12_GTT.m0M2f0.AFR.txt\n",
        "5      1     1         14  TCT       0.1     N  20100916_c1_p1.14_TCT.m0M2f0.AFR.txt\n",
        "6      1     2          2  ACT       0.0     Y  20100916_c1_p2.02_ACT.m0M2f0.AFR.txt\n",
        "7      1     2          4  ATT       0.0     Y  20100916_c1_p2.04_ATT.m0M2f0.AFR.txt\n",
        "8      1     2          5  CAT       0.0     Y  20100916_c1_p2.05_CAT.m0M2f0.AFR.txt\n",
        "9      1     2          7  CGT       0.1     N  20100916_c1_p2.07_CGT.m0M2f0.AFR.txt\n",
        "10     1     2         12  GTT       0.1     N  20100916_c1_p2.12_GTT.m0M2f0.AFR.txt\n",
        "11     1     2         14  TCT       0.1     N  20100916_c1_p2.14_TCT.m0M2f0.AFR.txt\n",
        "12     2     1          2  ACT       0.3     N  20100916_c2_p1.02_ACT.m0M2f0.AFR.txt\n",
        "13     2     1          4  ATT       0.3     N  20100916_c2_p1.04_ATT.m0M2f0.AFR.txt\n",
        "14     2     1          5  CAT       0.3     N  20100916_c2_p1.05_CAT.m0M2f0.AFR.txt\n",
        "15     2     1          7  CGT       1.0     N  20100916_c2_p1.07_CGT.m0M2f0.AFR.txt\n",
        "16     2     1         12  GTT       1.0     N  20100916_c2_p1.12_GTT.m0M2f0.AFR.txt\n",
        "17     2     1         14  TCT       1.0     N  20100916_c2_p1.14_TCT.m0M2f0.AFR.txt\n",
        "18     2     2          2  ACT       0.3     N  20100916_c2_p2.02_ACT.m0M2f0.AFR.txt\n",
        "19     2     2          4  ATT       0.3     N  20100916_c2_p2.04_ATT.m0M2f0.AFR.txt\n",
        "20     2     2          5  CAT       0.3     N  20100916_c2_p2.05_CAT.m0M2f0.AFR.txt\n",
        "21     2     2          7  CGT       1.0     N  20100916_c2_p2.07_CGT.m0M2f0.AFR.txt\n",
        "22     2     2         12  GTT       1.0     N  20100916_c2_p2.12_GTT.m0M2f0.AFR.txt\n",
        "23     2     2         14  TCT       1.0     N  20100916_c2_p2.14_TCT.m0M2f0.AFR.txt\n",
        "24     3     1          2  ACT      10.0     N  20100916_c3_p1.02_ACT.m0M2f0.AFR.txt\n",
        "25     3     1          4  ATT      10.0     N  20100916_c3_p1.04_ATT.m0M2f0.AFR.txt\n",
        "26     3     1          5  CAT      10.0     N  20100916_c3_p1.05_CAT.m0M2f0.AFR.txt\n",
        "27     3     1          7  CGT     100.0     N  20100916_c3_p1.07_CGT.m0M2f0.AFR.txt\n",
        "28     3     1         12  GTT     100.0     N  20100916_c3_p1.12_GTT.m0M2f0.AFR.txt\n",
        "29     3     1         14  TCT     100.0     N  20100916_c3_p1.14_TCT.m0M2f0.AFR.txt\n",
        "30     3     2          2  ACT      10.0     N  20100916_c3_p2.02_ACT.m0M2f0.AFR.txt\n",
        "31     3     2          4  ATT      10.0     N  20100916_c3_p2.04_ATT.m0M2f0.AFR.txt\n",
        "32     3     2          5  CAT      10.0     N  20100916_c3_p2.05_CAT.m0M2f0.AFR.txt\n",
        "33     3     2          7  CGT     100.0     N  20100916_c3_p2.07_CGT.m0M2f0.AFR.txt\n",
        "34     3     2         12  GTT     100.0     N  20100916_c3_p2.12_GTT.m0M2f0.AFR.txt\n",
        "35     3     2         14  TCT     100.0     N  20100916_c3_p2.14_TCT.m0M2f0.AFR.txt\n"
       ]
      }
     ],
     "prompt_number": 5
    },
    {
     "cell_type": "code",
     "collapsed": false,
     "input": [
      "pool = mp.Pool(processes=2)"
     ],
     "language": "python",
     "metadata": {},
     "outputs": [],
     "prompt_number": 8
    },
    {
     "cell_type": "code",
     "collapsed": false,
     "input": [
      "(N,J) = np.shape(r)\n",
      "roi = np.arange(80,90)"
     ],
     "language": "python",
     "metadata": {},
     "outputs": [],
     "prompt_number": 9
    },
    {
     "cell_type": "code",
     "collapsed": false,
     "input": [
      "try:\n",
      "    fh = open(\"control.p\", \"wb\")\n",
      "    (phiControl, thetaControl_s, muControl_s, MControl_s) = pickle.load(fh)\n",
      "    fh.close()\n",
      "except IOError as e:\n",
      "    phiControl, thetaControl_s, muControl_s, MControl_s = rvd26.mh_sample(rControl[:,roi], nControl[:,roi], \n",
      "                                                                          nsample=100, burnin=0.2, pool=pool)\n",
      "    pickle.dump( (phiCase, thetaCase_s, muCase_s, MCase_s), open(\"control.p\", \"wb\"))"
     ],
     "language": "python",
     "metadata": {},
     "outputs": [
      {
       "output_type": "stream",
       "stream": "stderr",
       "text": [
        "DEBUG:rvd26:MoM Parameter Estimate\n"
       ]
      },
      {
       "output_type": "stream",
       "stream": "stderr",
       "text": [
        "DEBUG:rvd26:{'a': 0.2886848445102338, 'b': 240850.41346262841, 'mu0': 0.0038929839114393095, 'M0': 2730.3483745832932}\n"
       ]
      },
      {
       "output_type": "stream",
       "stream": "stderr",
       "text": [
        "DEBUG:rvd26:Iteration 10 Parameter Estimate:\n"
       ]
      },
      {
       "output_type": "stream",
       "stream": "stderr",
       "text": [
        "DEBUG:rvd26:{'a': 754668.94986398262, 'b': 0.024473804545071684, 'mu0': 0.0038861428193255497, 'M0': 2932.3105308186409}\n"
       ]
      },
      {
       "output_type": "stream",
       "stream": "stderr",
       "text": [
        "DEBUG:rvd26:Iteration 20 Parameter Estimate:\n"
       ]
      },
      {
       "output_type": "stream",
       "stream": "stderr",
       "text": [
        "DEBUG:rvd26:{'a': 44049974.594388239, 'b': 0.00041974569484000315, 'mu0': 0.0038650111566408034, 'M0': 2807.0851975831624}\n"
       ]
      },
      {
       "output_type": "stream",
       "stream": "stderr",
       "text": [
        "DEBUG:rvd26:Iteration 30 Parameter Estimate:\n"
       ]
      },
      {
       "output_type": "stream",
       "stream": "stderr",
       "text": [
        "DEBUG:rvd26:{'a': 454810556.92287409, 'b': 4.0658655100723718e-05, 'mu0': 0.0038728436237968102, 'M0': 2952.3617432648603}\n"
       ]
      },
      {
       "output_type": "stream",
       "stream": "stderr",
       "text": [
        "DEBUG:rvd26:Iteration 40 Parameter Estimate:\n"
       ]
      },
      {
       "output_type": "stream",
       "stream": "stderr",
       "text": [
        "DEBUG:rvd26:{'a': 360807995.53744787, 'b': 5.1249333416129168e-05, 'mu0': 0.0039091826586418492, 'M0': 2902.187050319737}\n"
       ]
      },
      {
       "output_type": "stream",
       "stream": "stderr",
       "text": [
        "DEBUG:rvd26:Iteration 50 Parameter Estimate:\n"
       ]
      },
      {
       "output_type": "stream",
       "stream": "stderr",
       "text": [
        "DEBUG:rvd26:{'a': 263353368.09843463, 'b': 7.0208957484293514e-05, 'mu0': 0.0038842794566828313, 'M0': 2837.6626339355066}\n"
       ]
      },
      {
       "output_type": "stream",
       "stream": "stderr",
       "text": [
        "DEBUG:rvd26:Iteration 60 Parameter Estimate:\n"
       ]
      },
      {
       "output_type": "stream",
       "stream": "stderr",
       "text": [
        "DEBUG:rvd26:{'a': 1234880588.5426939, 'b': 1.4972476828526413e-05, 'mu0': 0.0038951586742487858, 'M0': 2866.7984142560076}\n"
       ]
      },
      {
       "output_type": "stream",
       "stream": "stderr",
       "text": [
        "DEBUG:rvd26:Iteration 70 Parameter Estimate:\n"
       ]
      },
      {
       "output_type": "stream",
       "stream": "stderr",
       "text": [
        "DEBUG:rvd26:{'a': 2271974951.2523689, 'b': 8.1380462044836009e-06, 'mu0': 0.0038564995164340919, 'M0': 2919.3190370268007}\n"
       ]
      },
      {
       "output_type": "stream",
       "stream": "stderr",
       "text": [
        "DEBUG:rvd26:Iteration 80 Parameter Estimate:\n"
       ]
      },
      {
       "output_type": "stream",
       "stream": "stderr",
       "text": [
        "DEBUG:rvd26:{'a': 1544681633.999495, 'b': 1.196985579032035e-05, 'mu0': 0.0038865380433575859, 'M0': 2925.1782805008925}\n"
       ]
      },
      {
       "output_type": "stream",
       "stream": "stderr",
       "text": [
        "DEBUG:rvd26:Iteration 90 Parameter Estimate:\n"
       ]
      },
      {
       "output_type": "stream",
       "stream": "stderr",
       "text": [
        "DEBUG:rvd26:{'a': 4623439170.6743755, 'b': 3.9990529316654858e-06, 'mu0': 0.0038718520110730343, 'M0': 3007.4435291042505}\n"
       ]
      }
     ],
     "prompt_number": 10
    },
    {
     "cell_type": "code",
     "collapsed": false,
     "input": [
      "try:\n",
      "    fh = open(\"case.p\", \"wb\")\n",
      "    (phiCase, thetaCase_s, muCase_s, MCase_s) = pickle.load(fh)\n",
      "    fh.close()\n",
      "except IOError as e:\n",
      "    phiCase, thetaCase_s, muCase_s, MCase_s = rvd26.mh_sample(r[:,roi], n[:,roi], \n",
      "                                                              nsample=200, burnin=0.2, pool=pool)\n",
      "    pickle.dump( (phiCase, thetaCase_s, muCase_s, MCase_s), open(\"case.p\", \"wb\"))"
     ],
     "language": "python",
     "metadata": {},
     "outputs": [
      {
       "output_type": "stream",
       "stream": "stderr",
       "text": [
        "DEBUG:rvd26:MoM Parameter Estimate\n"
       ]
      },
      {
       "output_type": "stream",
       "stream": "stderr",
       "text": [
        "DEBUG:rvd26:{'a': 0.77180247355159004, 'b': 140195.8857160311, 'mu0': 0.011905414090409659, 'M0': 11.68695088693933}\n"
       ]
      },
      {
       "output_type": "stream",
       "stream": "stderr",
       "text": [
        "DEBUG:rvd26:Iteration 10 Parameter Estimate:\n"
       ]
      },
      {
       "output_type": "stream",
       "stream": "stderr",
       "text": [
        "DEBUG:rvd26:{'a': 1170593.2313327033, 'b': 0.10042609070347551, 'mu0': 0.011867665711464907, 'M0': 11.744246260926174}\n"
       ]
      },
      {
       "output_type": "stream",
       "stream": "stderr",
       "text": [
        "DEBUG:rvd26:Iteration 20 Parameter Estimate:\n"
       ]
      },
      {
       "output_type": "stream",
       "stream": "stderr",
       "text": [
        "DEBUG:rvd26:{'a': 37253649.324068196, 'b': 0.0031546364430816909, 'mu0': 0.011871723321378525, 'M0': 11.722613692209856}\n"
       ]
      },
      {
       "output_type": "stream",
       "stream": "stderr",
       "text": [
        "DEBUG:rvd26:Iteration 30 Parameter Estimate:\n"
       ]
      },
      {
       "output_type": "stream",
       "stream": "stderr",
       "text": [
        "DEBUG:rvd26:{'a': 614477585.86129689, 'b': 0.00019126193607850038, 'mu0': 0.011894376139454616, 'M0': 11.694287388904467}\n"
       ]
      },
      {
       "output_type": "stream",
       "stream": "stderr",
       "text": [
        "DEBUG:rvd26:Iteration 40 Parameter Estimate:\n"
       ]
      },
      {
       "output_type": "stream",
       "stream": "stderr",
       "text": [
        "DEBUG:rvd26:{'a': 393167601.6608876, 'b': 0.00029892333556443213, 'mu0': 0.011877619880115844, 'M0': 11.735003250796643}\n"
       ]
      },
      {
       "output_type": "stream",
       "stream": "stderr",
       "text": [
        "DEBUG:rvd26:Iteration 50 Parameter Estimate:\n"
       ]
      },
      {
       "output_type": "stream",
       "stream": "stderr",
       "text": [
        "DEBUG:rvd26:{'a': 864074856.44232285, 'b': 0.00013601462818391399, 'mu0': 0.011943250447610586, 'M0': 11.617841825901131}\n"
       ]
      },
      {
       "output_type": "stream",
       "stream": "stderr",
       "text": [
        "DEBUG:rvd26:Iteration 60 Parameter Estimate:\n"
       ]
      },
      {
       "output_type": "stream",
       "stream": "stderr",
       "text": [
        "DEBUG:rvd26:{'a': 1125598246.5125587, 'b': 0.00010441289078148029, 'mu0': 0.011861510223054938, 'M0': 11.754517943888811}\n"
       ]
      },
      {
       "output_type": "stream",
       "stream": "stderr",
       "text": [
        "DEBUG:rvd26:Iteration 70 Parameter Estimate:\n"
       ]
      },
      {
       "output_type": "stream",
       "stream": "stderr",
       "text": [
        "DEBUG:rvd26:{'a': 1862912999.2630813, 'b': 6.3088656303052733e-05, 'mu0': 0.011914107406769223, 'M0': 11.68600661936655}\n"
       ]
      },
      {
       "output_type": "stream",
       "stream": "stderr",
       "text": [
        "DEBUG:rvd26:Iteration 80 Parameter Estimate:\n"
       ]
      },
      {
       "output_type": "stream",
       "stream": "stderr",
       "text": [
        "DEBUG:rvd26:{'a': 5854791927.5866547, 'b': 2.0073965889044357e-05, 'mu0': 0.011908144256890508, 'M0': 11.680236903681267}\n"
       ]
      },
      {
       "output_type": "stream",
       "stream": "stderr",
       "text": [
        "DEBUG:rvd26:Iteration 90 Parameter Estimate:\n"
       ]
      },
      {
       "output_type": "stream",
       "stream": "stderr",
       "text": [
        "DEBUG:rvd26:{'a': 7442883724.9631395, 'b': 1.5790814398923631e-05, 'mu0': 0.011938387595964304, 'M0': 11.652898932350844}\n"
       ]
      }
     ],
     "prompt_number": 11
    },
    {
     "cell_type": "code",
     "collapsed": false,
     "input": [
      "rvd26.plot_estimate(rControl[:,roi], nControl[:,roi], muControl_s, thetaControl_s, phiControl)\n",
      "rvd26.plot_estimate(r[:,roi], n[:,roi], muCase_s, thetaCase_s, phiCase)"
     ],
     "language": "python",
     "metadata": {},
     "outputs": [
      {
       "output_type": "display_data",
       "png": "[encoded data removed]",
       "text": [
        "<matplotlib.figure.Figure at 0x109032e50>"
       ]
      },
      {
       "output_type": "display_data",
       "png": "[encoded data removed]",
       "text": [
        "<matplotlib.figure.Figure at 0x10906a650>"
       ]
      }
     ],
     "prompt_number": 12
    },
    {
     "cell_type": "code",
     "collapsed": false,
     "input": [
      "tpLoc = np.arange(85,346,20)"
     ],
     "language": "python",
     "metadata": {},
     "outputs": []
    },
    {
     "cell_type": "code",
     "collapsed": true,
     "input": [
      "iqrControl = np.percentile(muControl_s, (25, 75), axis=1)\n",
      "iqrCase = np.percentile(muCase_s, (25, 75), axis=1)\n",
      "muControl = np.array(np.median(muControl_s, 1))\n",
      "muCase = np.median(muCase_s,1)\n",
      "SNRControl = muControl/(iqrControl[1] - iqrControl[0])\n",
      "SNRCase = muCase/(iqrCase[1] - iqrCase[0])\n",
      "SNR = SNRCase/SNRControl\n",
      "\n",
      "plt.plot(roi, SNR, marker='o')\n",
      "plt.xlabel('Location')\n",
      "plt.ylabel('SNR')\n",
      "plt.title('SNR Ratio for Variant Call')\n",
      "plt.savefig(\"SNR.pdf\")"
     ],
     "language": "python",
     "metadata": {},
     "outputs": [
      {
       "output_type": "display_data",
       "png": "[encoded data removed]",
       "text": [
        "<matplotlib.figure.Figure at 0x1090ac910>"
       ]
      }
     ],
     "prompt_number": 14
    },
    {
     "cell_type": "code",
     "collapsed": false,
     "input": [],
     "language": "python",
     "metadata": {},
     "outputs": []
    }
   ],
   "metadata": {}
  }
 ]
}