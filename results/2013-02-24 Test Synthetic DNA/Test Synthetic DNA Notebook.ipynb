{
 "metadata": {
  "name": "Test Synthetic DNA Notebook"
 },
 "nbformat": 3,
 "nbformat_minor": 0,
 "worksheets": [
  {
   "cells": [
    {
     "cell_type": "code",
     "collapsed": true,
     "input": [
      "import sys\n",
      "import os\n",
      "import numpy as np\n",
      "import scipy as sp\n",
      "import matplotlib.pyplot as plt\n",
      "import pandas as pd\n",
      "import pickle\n",
      "import multiprocessing as mp"
     ],
     "language": "python",
     "metadata": {},
     "outputs": [],
     "prompt_number": 1
    },
    {
     "cell_type": "code",
     "collapsed": false,
     "input": [
      "# Insert the src/python/rvd26 directory at front of the path\n",
      "rvddir = os.path.join('../../src/python/rvd26')\n",
      "sys.path.insert(0, rvddir)\n",
      "import rvd26"
     ],
     "language": "python",
     "metadata": {},
     "outputs": [],
     "prompt_number": 2
    },
    {
     "cell_type": "code",
     "collapsed": true,
     "input": [
      "def load_depth(filename):\n",
      "    acgt = {'A':0, 'C':1, 'G':2, 'T':3}\n",
      "    \n",
      "    dcFile = open(filename, 'r')\n",
      "    header = dcFile.readline().strip()\n",
      "    dc = dcFile.readlines()\n",
      "    dc = [x.strip().split(\"\\t\") for x in dc]\n",
      "    \n",
      "    loc = map(int, [x[2] for x in dc])\n",
      "    refb = [x[4] for x in dc]\n",
      "    c = [map(int, x[5:9]) for x in dc]\n",
      "    c = np.array(c)\n",
      "    \n",
      "    (J, K) = np.shape(c)\n",
      "    n = np.sum(c, 1)\n",
      "    r = np.zeros(J)\n",
      "    for j in xrange(0, J):\n",
      "        r[j] = n[j] - c[j, acgt[refb[j]]]\n",
      "    return (r, n)"
     ],
     "language": "python",
     "metadata": {},
     "outputs": [],
     "prompt_number": 3
    },
    {
     "cell_type": "code",
     "collapsed": true,
     "input": [
      "def process_toc(dcFileList):\n",
      "    \n",
      "    r=[]; n=[]\n",
      "    for dcFile in dcFileList:\n",
      "        (r1, n1) = load_depth(dcFile)\n",
      "        r.append(r1)\n",
      "        n.append(n1)\n",
      "    r = np.array(r)\n",
      "    n = np.array(n)\n",
      "    return (r,n)"
     ],
     "language": "python",
     "metadata": {},
     "outputs": [],
     "prompt_number": 4
    },
    {
     "cell_type": "code",
     "collapsed": true,
     "input": [
      "tocfilename = \"../../data/synthetic_toc.txt\"\n",
      "toc = pd.read_table(tocfilename)\n",
      "print toc\n",
      "\n",
      "controlFileList = [\"../../data/synthetic_dcs/%s\" % filename for filename in toc.Filename[toc.isRef=='Y']]\n",
      "(rControl,nControl) = process_toc(controlFileList)\n",
      "\n",
      "caseFileList = [\"../../data/synthetic_dcs/%s\" % filename for filename in toc.Filename[toc.Dilution==10.0]]\n",
      "(r,n) = process_toc(caseFileList)"
     ],
     "language": "python",
     "metadata": {},
     "outputs": [
      {
       "output_type": "stream",
       "stream": "stdout",
       "text": [
        "    Lane  Pair  Tag Index  Tag  Dilution isRef                              Filename\n",
        "0      1     1          2  ACT       0.0     Y  20100916_c1_p1.02_ACT.m0M2f0.AFR.txt\n",
        "1      1     1          4  ATT       0.0     Y  20100916_c1_p1.04_ATT.m0M2f0.AFR.txt\n",
        "2      1     1          5  CAT       0.0     Y  20100916_c1_p1.05_CAT.m0M2f0.AFR.txt\n",
        "3      1     1          7  CGT       0.1     N  20100916_c1_p1.07_CGT.m0M2f0.AFR.txt\n",
        "4      1     1         12  GTT       0.1     N  20100916_c1_p1.12_GTT.m0M2f0.AFR.txt\n",
        "5      1     1         14  TCT       0.1     N  20100916_c1_p1.14_TCT.m0M2f0.AFR.txt\n",
        "6      1     2          2  ACT       0.0     Y  20100916_c1_p2.02_ACT.m0M2f0.AFR.txt\n",
        "7      1     2          4  ATT       0.0     Y  20100916_c1_p2.04_ATT.m0M2f0.AFR.txt\n",
        "8      1     2          5  CAT       0.0     Y  20100916_c1_p2.05_CAT.m0M2f0.AFR.txt\n",
        "9      1     2          7  CGT       0.1     N  20100916_c1_p2.07_CGT.m0M2f0.AFR.txt\n",
        "10     1     2         12  GTT       0.1     N  20100916_c1_p2.12_GTT.m0M2f0.AFR.txt\n",
        "11     1     2         14  TCT       0.1     N  20100916_c1_p2.14_TCT.m0M2f0.AFR.txt\n",
        "12     2     1          2  ACT       0.3     N  20100916_c2_p1.02_ACT.m0M2f0.AFR.txt\n",
        "13     2     1          4  ATT       0.3     N  20100916_c2_p1.04_ATT.m0M2f0.AFR.txt\n",
        "14     2     1          5  CAT       0.3     N  20100916_c2_p1.05_CAT.m0M2f0.AFR.txt\n",
        "15     2     1          7  CGT       1.0     N  20100916_c2_p1.07_CGT.m0M2f0.AFR.txt\n",
        "16     2     1         12  GTT       1.0     N  20100916_c2_p1.12_GTT.m0M2f0.AFR.txt\n",
        "17     2     1         14  TCT       1.0     N  20100916_c2_p1.14_TCT.m0M2f0.AFR.txt\n",
        "18     2     2          2  ACT       0.3     N  20100916_c2_p2.02_ACT.m0M2f0.AFR.txt\n",
        "19     2     2          4  ATT       0.3     N  20100916_c2_p2.04_ATT.m0M2f0.AFR.txt\n",
        "20     2     2          5  CAT       0.3     N  20100916_c2_p2.05_CAT.m0M2f0.AFR.txt\n",
        "21     2     2          7  CGT       1.0     N  20100916_c2_p2.07_CGT.m0M2f0.AFR.txt\n",
        "22     2     2         12  GTT       1.0     N  20100916_c2_p2.12_GTT.m0M2f0.AFR.txt\n",
        "23     2     2         14  TCT       1.0     N  20100916_c2_p2.14_TCT.m0M2f0.AFR.txt\n",
        "24     3     1          2  ACT      10.0     N  20100916_c3_p1.02_ACT.m0M2f0.AFR.txt\n",
        "25     3     1          4  ATT      10.0     N  20100916_c3_p1.04_ATT.m0M2f0.AFR.txt\n",
        "26     3     1          5  CAT      10.0     N  20100916_c3_p1.05_CAT.m0M2f0.AFR.txt\n",
        "27     3     1          7  CGT     100.0     N  20100916_c3_p1.07_CGT.m0M2f0.AFR.txt\n",
        "28     3     1         12  GTT     100.0     N  20100916_c3_p1.12_GTT.m0M2f0.AFR.txt\n",
        "29     3     1         14  TCT     100.0     N  20100916_c3_p1.14_TCT.m0M2f0.AFR.txt\n",
        "30     3     2          2  ACT      10.0     N  20100916_c3_p2.02_ACT.m0M2f0.AFR.txt\n",
        "31     3     2          4  ATT      10.0     N  20100916_c3_p2.04_ATT.m0M2f0.AFR.txt\n",
        "32     3     2          5  CAT      10.0     N  20100916_c3_p2.05_CAT.m0M2f0.AFR.txt\n",
        "33     3     2          7  CGT     100.0     N  20100916_c3_p2.07_CGT.m0M2f0.AFR.txt\n",
        "34     3     2         12  GTT     100.0     N  20100916_c3_p2.12_GTT.m0M2f0.AFR.txt\n",
        "35     3     2         14  TCT     100.0     N  20100916_c3_p2.14_TCT.m0M2f0.AFR.txt\n"
       ]
      }
     ],
     "prompt_number": 5
    },
    {
     "cell_type": "code",
     "collapsed": false,
     "input": [
      "(N,J) = np.shape(r)\n",
      "roi = np.arange(70,100)"
     ],
     "language": "python",
     "metadata": {},
     "outputs": [],
     "prompt_number": "*"
    },
    {
     "cell_type": "code",
     "collapsed": false,
     "input": [
      "phiControl, thetaControl_s, muControl_s, MControl_s = rvd26.mh_sample(rControl[:,roi], nControl[:,roi], nsample=100, burnin=0.2, poolsize = mp.cpu_count())"
     ],
     "language": "python",
     "metadata": {},
     "outputs": [
      {
       "output_type": "stream",
       "stream": "stderr",
       "text": [
        "DEBUG:rvd26:MoM Parameter Estimate\n"
       ]
      },
      {
       "output_type": "stream",
       "stream": "stderr",
       "text": [
        "DEBUG:rvd26:{'a': 0.56080850746083277, 'b': 138086.97182722716, 'mu0': 0.0035008185926605618, 'M0': 3307.0178865101184}\n"
       ]
      }
     ],
     "prompt_number": "*"
    },
    {
     "cell_type": "code",
     "collapsed": false,
     "input": [
      "phiCase, thetaCase_s, muCase_s, MCase_s = rvd26.mh_sample(r[:,roi], n[:,roi], nsample=100, burnin=0.2, poolsize = mp.cpu_count())"
     ],
     "language": "python",
     "metadata": {},
     "outputs": [],
     "prompt_number": "*"
    },
    {
     "cell_type": "code",
     "collapsed": false,
     "input": [
      "rvd26.plot_estimate(rControl[:,roi], nControl[:,roi], muControl_s, thetaControl_s, phiControl)\n",
      "rvd26.plot_estimate(r[:,roi], n[:,roi], muCase_s, thetaCase_s, phiCase)"
     ],
     "language": "python",
     "metadata": {},
     "outputs": [],
     "prompt_number": "*"
    },
    {
     "cell_type": "code",
     "collapsed": false,
     "input": [
      "tpLoc = np.arange(85,346,20)\n",
      "muControl = np.array(np.median(muControl_s, 1))\n",
      "muControlErr = np.abs(np.percentile(muControl_s, (2.5, 97.5), axis=1) - muControl)\n",
      "thetaControl = np.median(thetaControl_s, 2)\n",
      "\n",
      "muCase = np.median(muCase_s,1)\n",
      "muCaseErr = np.abs(np.percentile(muCase_s, (2.5, 97.5), 1) - muCase)\n",
      "thetaCase = np.median(thetaCase_s, 2)\n",
      "\n",
      "\n",
      "plt.errorbar(tpLoc, muControl[tpLoc-1], yerr=muControlErr[:,tpLoc-1], color='b', marker='o')\n",
      "plt.plot(tpLoc, thetaControl[:,tpLoc-1].T, marker='x', color='b', linestyle='None')\n",
      "plt.plot(tpLoc, r[:,tpLoc-1].T/n[:,tpLoc-1].T, marker='^', markersize=5, alpha=0.5, linestyle='None')\n",
      "plt.errorbar(tpLoc, muCase[tpLoc-1], yerr=muCaseErr[:,tpLoc-1], color='r', marker='o')\n",
      "plt.plot(tpLoc, thetaCase[:,tpLoc-1].T, marker='x', color='r', linestyle='None')\n",
      "plt.plot(tpLoc, rControl[:,tpLoc-1].T/nControl[:,tpLoc-1].T, marker='^', markersize=5, alpha=0.5, linestyle='None')\n",
      "plt.xlabel('True Variant Location')\n",
      "plt.ylabel('Error Rate')"
     ],
     "language": "python",
     "metadata": {},
     "outputs": [],
     "prompt_number": "*"
    },
    {
     "cell_type": "code",
     "collapsed": true,
     "input": [
      "iqrControl = np.percentile(muControl_s, (25, 75), axis=1)\n",
      "iqrCase = np.percentile(muCase_s, (25, 75), axis=1)\n",
      "muControl = np.array(np.median(muControl_s, 1))\n",
      "muCase = np.median(muCase_s,1)\n",
      "SNRControl = muControl/(iqrControl[1] - iqrControl[0])\n",
      "SNRCase = muCase/(iqrCase[1] - iqrCase[0])\n",
      "SNR = SNRCase/SNRControl\n",
      "\n",
      "plt.plot(roi, SNR, marker='o')\n",
      "plt.xlabel('Location')\n",
      "plt.ylabel('SNR')\n",
      "plt.title('SNR Ratio for Variant Call')"
     ],
     "language": "python",
     "metadata": {},
     "outputs": [],
     "prompt_number": "*"
    },
    {
     "cell_type": "code",
     "collapsed": false,
     "input": [],
     "language": "python",
     "metadata": {},
     "outputs": [],
     "prompt_number": "*"
    }
   ],
   "metadata": {}
  }
 ]
}