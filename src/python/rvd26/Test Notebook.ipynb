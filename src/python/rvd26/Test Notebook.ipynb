{
 "metadata": {
  "name": "Test Notebook"
 }, 
 "nbformat": 2, 
 "worksheets": [
  {
   "cells": [
    {
     "cell_type": "code", 
     "collapsed": false, 
     "input": [
      "import rvd26", 
      "import numpy as np", 
      "import scipy as sp", 
      "import matplotlib.pyplot as plt"
     ], 
     "language": "python", 
     "outputs": [], 
     "prompt_number": 25
    }, 
    {
     "cell_type": "code", 
     "collapsed": false, 
     "input": [
      "n = 1000", 
      "J = 10", 
      "phi = {'mu0':0.25, 'M0':2e3, 'a':1000, 'b':1}", 
      "r, theta, mu, M = rvd26.generate_sample(phi, n=n, J=J)", 
      "r[:,int(J/2)] = n*np.array([0.50, 0.55, 0.45])", 
      "loglik = rvd26.complete_ll(phi, r, n, theta, mu, M)"
     ], 
     "language": "python", 
     "outputs": [], 
     "prompt_number": 26
    }, 
    {
     "cell_type": "code", 
     "collapsed": false, 
     "input": [
      "phi, theta_s, mu_s, M_s = rvd26.mh_sample(r, n, nsample=500)"
     ], 
     "language": "python", 
     "outputs": [
      {
       "output_type": "stream", 
       "stream": "stdout", 
       "text": [
        "Sampling epoch: 0", 
        "Sampling epoch: 100"
       ]
      }, 
      {
       "output_type": "stream", 
       "stream": "stdout", 
       "text": [
        "", 
        "Sampling epoch: 200"
       ]
      }, 
      {
       "output_type": "stream", 
       "stream": "stdout", 
       "text": [
        "", 
        "Sampling epoch: 300"
       ]
      }, 
      {
       "output_type": "stream", 
       "stream": "stdout", 
       "text": [
        "", 
        "Sampling epoch: 400"
       ]
      }, 
      {
       "output_type": "stream", 
       "stream": "stdout", 
       "text": [
        ""
       ]
      }
     ], 
     "prompt_number": 28
    }, 
    {
     "cell_type": "code", 
     "collapsed": false, 
     "input": [
      "rvd26.plot_estimate(r, n, mu_s, theta_s, phi)"
     ], 
     "language": "python", 
     "outputs": [
      {
       "output_type": "display_data", 
       "png": "[encoded data removed]"
      }
     ], 
     "prompt_number": 29
    }, 
    {
     "cell_type": "code", 
     "collapsed": false, 
     "input": [
      "phi"
     ], 
     "language": "python", 
     "outputs": [
      {
       "output_type": "pyout", 
       "prompt_number": 16, 
       "text": [
        "{'M0': 34.14707553409594,", 
        " 'a': 1.3965949354366041,", 
        " 'b': 922.73667754739301,", 
        " 'mu0': 0.2767}"
       ]
      }
     ], 
     "prompt_number": 16
    }, 
    {
     "cell_type": "code", 
     "collapsed": false, 
     "input": [
      "np.mean(mu_s,1)"
     ], 
     "language": "python", 
     "outputs": [
      {
       "output_type": "pyout", 
       "prompt_number": 19, 
       "text": [
        "array([ 0.23790949,  0.26265494,  0.23346959,  0.25558627,  0.28572018,", 
        "        0.4793339 ,  0.27406689,  0.26558709,  0.24076572,  0.25477943])"
       ]
      }
     ], 
     "prompt_number": 19
    }, 
    {
     "cell_type": "code", 
     "collapsed": true, 
     "input": [], 
     "language": "python", 
     "outputs": []
    }
   ]
  }
 ]
}